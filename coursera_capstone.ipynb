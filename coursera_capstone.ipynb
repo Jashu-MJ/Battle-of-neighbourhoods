# To add a new cell, type '# %%'
# To add a new markdown cell, type '# %% [markdown]'
# %%
# this project is regarding the best suitable neighbhourood in the city
import pandas as pd
import numpy as np
print("Welcome to Capstone Project Course!")


# %%



